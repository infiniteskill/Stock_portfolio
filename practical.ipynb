{
 "cells": [
  {
   "cell_type": "code",
   "execution_count": 29,
   "metadata": {},
   "outputs": [],
   "source": [
    "import numpy as np\n",
    "import pandas as pd\n",
    "import pandas_datareader.data as web\n",
    "import matplotlib.pyplot as plt\n",
    "import datetime\n",
    "import scipy.optimize as sco"
   ]
  },
  {
   "cell_type": "code",
   "execution_count": 30,
   "metadata": {},
   "outputs": [],
   "source": [
    "stocks=['AAPL','WMT','TSLA','GE','AMZN','DB']"
   ]
  },
  {
   "cell_type": "code",
   "execution_count": 31,
   "metadata": {},
   "outputs": [],
   "source": [
    "s_dt='01/01/2001'\n",
    "e_dt='20/11/2019'"
   ]
  },
  {
   "cell_type": "code",
   "execution_count": 32,
   "metadata": {},
   "outputs": [],
   "source": [
    "data=web.DataReader(stocks,data_source='yahoo',start=s_dt,end=e_dt)['Adj Close']"
   ]
  },
  {
   "cell_type": "code",
   "execution_count": 33,
   "metadata": {},
   "outputs": [
    {
     "data": {
      "text/html": [
       "<div>\n",
       "<style scoped>\n",
       "    .dataframe tbody tr th:only-of-type {\n",
       "        vertical-align: middle;\n",
       "    }\n",
       "\n",
       "    .dataframe tbody tr th {\n",
       "        vertical-align: top;\n",
       "    }\n",
       "\n",
       "    .dataframe thead th {\n",
       "        text-align: right;\n",
       "    }\n",
       "</style>\n",
       "<table border=\"1\" class=\"dataframe\">\n",
       "  <thead>\n",
       "    <tr style=\"text-align: right;\">\n",
       "      <th>Symbols</th>\n",
       "      <th>AAPL</th>\n",
       "      <th>WMT</th>\n",
       "      <th>TSLA</th>\n",
       "      <th>GE</th>\n",
       "      <th>AMZN</th>\n",
       "      <th>DB</th>\n",
       "    </tr>\n",
       "    <tr>\n",
       "      <th>Date</th>\n",
       "      <th></th>\n",
       "      <th></th>\n",
       "      <th></th>\n",
       "      <th></th>\n",
       "      <th></th>\n",
       "      <th></th>\n",
       "    </tr>\n",
       "  </thead>\n",
       "  <tbody>\n",
       "    <tr>\n",
       "      <td>2001-01-02</td>\n",
       "      <td>0.924482</td>\n",
       "      <td>37.753437</td>\n",
       "      <td>NaN</td>\n",
       "      <td>23.312727</td>\n",
       "      <td>13.875000</td>\n",
       "      <td>53.343246</td>\n",
       "    </tr>\n",
       "    <tr>\n",
       "      <td>2001-01-03</td>\n",
       "      <td>1.017707</td>\n",
       "      <td>40.950653</td>\n",
       "      <td>NaN</td>\n",
       "      <td>25.477486</td>\n",
       "      <td>17.562500</td>\n",
       "      <td>53.915058</td>\n",
       "    </tr>\n",
       "    <tr>\n",
       "      <td>2001-01-04</td>\n",
       "      <td>1.060436</td>\n",
       "      <td>39.373932</td>\n",
       "      <td>NaN</td>\n",
       "      <td>25.610699</td>\n",
       "      <td>15.500000</td>\n",
       "      <td>57.100941</td>\n",
       "    </tr>\n",
       "    <tr>\n",
       "      <td>2001-01-05</td>\n",
       "      <td>1.017707</td>\n",
       "      <td>37.797234</td>\n",
       "      <td>NaN</td>\n",
       "      <td>25.211050</td>\n",
       "      <td>14.562500</td>\n",
       "      <td>56.937572</td>\n",
       "    </tr>\n",
       "    <tr>\n",
       "      <td>2001-01-08</td>\n",
       "      <td>1.029361</td>\n",
       "      <td>37.797234</td>\n",
       "      <td>NaN</td>\n",
       "      <td>24.278542</td>\n",
       "      <td>14.937500</td>\n",
       "      <td>56.038982</td>\n",
       "    </tr>\n",
       "    <tr>\n",
       "      <td>...</td>\n",
       "      <td>...</td>\n",
       "      <td>...</td>\n",
       "      <td>...</td>\n",
       "      <td>...</td>\n",
       "      <td>...</td>\n",
       "      <td>...</td>\n",
       "    </tr>\n",
       "    <tr>\n",
       "      <td>2019-11-14</td>\n",
       "      <td>262.640015</td>\n",
       "      <td>120.650002</td>\n",
       "      <td>349.350006</td>\n",
       "      <td>11.290000</td>\n",
       "      <td>1754.599976</td>\n",
       "      <td>7.210000</td>\n",
       "    </tr>\n",
       "    <tr>\n",
       "      <td>2019-11-15</td>\n",
       "      <td>265.760010</td>\n",
       "      <td>118.870003</td>\n",
       "      <td>352.170013</td>\n",
       "      <td>11.520000</td>\n",
       "      <td>1739.489990</td>\n",
       "      <td>7.310000</td>\n",
       "    </tr>\n",
       "    <tr>\n",
       "      <td>2019-11-18</td>\n",
       "      <td>267.100006</td>\n",
       "      <td>120.250000</td>\n",
       "      <td>349.989990</td>\n",
       "      <td>11.440000</td>\n",
       "      <td>1752.530029</td>\n",
       "      <td>7.350000</td>\n",
       "    </tr>\n",
       "    <tr>\n",
       "      <td>2019-11-19</td>\n",
       "      <td>266.290009</td>\n",
       "      <td>119.889999</td>\n",
       "      <td>359.519989</td>\n",
       "      <td>11.500000</td>\n",
       "      <td>1752.790039</td>\n",
       "      <td>7.350000</td>\n",
       "    </tr>\n",
       "    <tr>\n",
       "      <td>2019-11-20</td>\n",
       "      <td>263.190002</td>\n",
       "      <td>119.129997</td>\n",
       "      <td>352.220001</td>\n",
       "      <td>11.390000</td>\n",
       "      <td>1745.530029</td>\n",
       "      <td>7.300000</td>\n",
       "    </tr>\n",
       "  </tbody>\n",
       "</table>\n",
       "<p>4752 rows × 6 columns</p>\n",
       "</div>"
      ],
      "text/plain": [
       "Symbols           AAPL         WMT        TSLA         GE         AMZN  \\\n",
       "Date                                                                     \n",
       "2001-01-02    0.924482   37.753437         NaN  23.312727    13.875000   \n",
       "2001-01-03    1.017707   40.950653         NaN  25.477486    17.562500   \n",
       "2001-01-04    1.060436   39.373932         NaN  25.610699    15.500000   \n",
       "2001-01-05    1.017707   37.797234         NaN  25.211050    14.562500   \n",
       "2001-01-08    1.029361   37.797234         NaN  24.278542    14.937500   \n",
       "...                ...         ...         ...        ...          ...   \n",
       "2019-11-14  262.640015  120.650002  349.350006  11.290000  1754.599976   \n",
       "2019-11-15  265.760010  118.870003  352.170013  11.520000  1739.489990   \n",
       "2019-11-18  267.100006  120.250000  349.989990  11.440000  1752.530029   \n",
       "2019-11-19  266.290009  119.889999  359.519989  11.500000  1752.790039   \n",
       "2019-11-20  263.190002  119.129997  352.220001  11.390000  1745.530029   \n",
       "\n",
       "Symbols            DB  \n",
       "Date                   \n",
       "2001-01-02  53.343246  \n",
       "2001-01-03  53.915058  \n",
       "2001-01-04  57.100941  \n",
       "2001-01-05  56.937572  \n",
       "2001-01-08  56.038982  \n",
       "...               ...  \n",
       "2019-11-14   7.210000  \n",
       "2019-11-15   7.310000  \n",
       "2019-11-18   7.350000  \n",
       "2019-11-19   7.350000  \n",
       "2019-11-20   7.300000  \n",
       "\n",
       "[4752 rows x 6 columns]"
      ]
     },
     "execution_count": 33,
     "metadata": {},
     "output_type": "execute_result"
    }
   ],
   "source": [
    "data"
   ]
  },
  {
   "cell_type": "code",
   "execution_count": 34,
   "metadata": {},
   "outputs": [],
   "source": [
    "daily_return= (data/data.shift(1))-1"
   ]
  },
  {
   "cell_type": "code",
   "execution_count": 35,
   "metadata": {},
   "outputs": [
    {
     "data": {
      "text/plain": [
       "array([[<matplotlib.axes._subplots.AxesSubplot object at 0x7f84e8bb0d50>,\n",
       "        <matplotlib.axes._subplots.AxesSubplot object at 0x7f84e8eadd50>],\n",
       "       [<matplotlib.axes._subplots.AxesSubplot object at 0x7f84e8c59650>,\n",
       "        <matplotlib.axes._subplots.AxesSubplot object at 0x7f84e8cd1d90>],\n",
       "       [<matplotlib.axes._subplots.AxesSubplot object at 0x7f84e8cd05d0>,\n",
       "        <matplotlib.axes._subplots.AxesSubplot object at 0x7f84e8b1cdd0>]],\n",
       "      dtype=object)"
      ]
     },
     "execution_count": 35,
     "metadata": {},
     "output_type": "execute_result"
    },
    {
     "data": {
      "image/png": "[encoded data removed]",
      "text/plain": [
       "<Figure size 432x288 with 6 Axes>"
      ]
     },
     "metadata": {
      "needs_background": "light"
     },
     "output_type": "display_data"
    }
   ],
   "source": [
    "daily_return.hist(bins=100)"
   ]
  },
  {
   "cell_type": "code",
   "execution_count": 36,
   "metadata": {},
   "outputs": [
    {
     "data": {
      "text/plain": [
       "<matplotlib.axes._subplots.AxesSubplot at 0x7f84e8b8c1d0>"
      ]
     },
     "execution_count": 36,
     "metadata": {},
     "output_type": "execute_result"
    },
    {
     "data": {
      "image/png": "[encoded data removed]",
      "text/plain": [
       "<Figure size 432x288 with 1 Axes>"
      ]
     },
     "metadata": {
      "needs_background": "light"
     },
     "output_type": "display_data"
    }
   ],
   "source": [
    "data.plot()"
   ]
  },
  {
   "cell_type": "code",
   "execution_count": 39,
   "metadata": {},
   "outputs": [],
   "source": [
    "def cal_return(data):\n",
    "    returns=np.log(data/data.shift(1))\n",
    "    return returns"
   ]
  },
  {
   "cell_type": "code",
   "execution_count": 44,
   "metadata": {},
   "outputs": [
    {
     "data": {
      "text/plain": [
       "<matplotlib.axes._subplots.AxesSubplot at 0x7f84e8583610>"
      ]
     },
     "execution_count": 44,
     "metadata": {},
     "output_type": "execute_result"
    },
    {
     "data": {
      "image/png": "[encoded data removed]",
      "text/plain": [
       "<Figure size 432x288 with 1 Axes>"
      ]
     },
     "metadata": {
      "needs_background": "light"
     },
     "output_type": "display_data"
    }
   ],
   "source": [
    "returns=cal_return(data)\n",
    "returns.plot()"
   ]
  },
  {
   "cell_type": "code",
   "execution_count": 45,
   "metadata": {},
   "outputs": [
    {
     "data": {
      "text/plain": [
       "Symbols\n",
       "AAPL    0.299758\n",
       "WMT     0.060952\n",
       "TSLA    0.286594\n",
       "GE     -0.037992\n",
       "AMZN    0.256441\n",
       "DB     -0.105493\n",
       "dtype: float64"
      ]
     },
     "execution_count": 45,
     "metadata": {},
     "output_type": "execute_result"
    }
   ],
   "source": [
    "returns.mean()*252"
   ]
  },
  {
   "cell_type": "code",
   "execution_count": 47,
   "metadata": {},
   "outputs": [
    {
     "data": {
      "text/html": [
       "<div>\n",
       "<style scoped>\n",
       "    .dataframe tbody tr th:only-of-type {\n",
       "        vertical-align: middle;\n",
       "    }\n",
       "\n",
       "    .dataframe tbody tr th {\n",
       "        vertical-align: top;\n",
       "    }\n",
       "\n",
       "    .dataframe thead th {\n",
       "        text-align: right;\n",
       "    }\n",
       "</style>\n",
       "<table border=\"1\" class=\"dataframe\">\n",
       "  <thead>\n",
       "    <tr style=\"text-align: right;\">\n",
       "      <th>Symbols</th>\n",
       "      <th>AAPL</th>\n",
       "      <th>WMT</th>\n",
       "      <th>TSLA</th>\n",
       "      <th>GE</th>\n",
       "      <th>AMZN</th>\n",
       "      <th>DB</th>\n",
       "    </tr>\n",
       "    <tr>\n",
       "      <th>Symbols</th>\n",
       "      <th></th>\n",
       "      <th></th>\n",
       "      <th></th>\n",
       "      <th></th>\n",
       "      <th></th>\n",
       "      <th></th>\n",
       "    </tr>\n",
       "  </thead>\n",
       "  <tbody>\n",
       "    <tr>\n",
       "      <td>AAPL</td>\n",
       "      <td>0.131422</td>\n",
       "      <td>0.021745</td>\n",
       "      <td>0.032284</td>\n",
       "      <td>0.042747</td>\n",
       "      <td>0.064714</td>\n",
       "      <td>0.057236</td>\n",
       "    </tr>\n",
       "    <tr>\n",
       "      <td>WMT</td>\n",
       "      <td>0.021745</td>\n",
       "      <td>0.044372</td>\n",
       "      <td>0.011713</td>\n",
       "      <td>0.023997</td>\n",
       "      <td>0.025989</td>\n",
       "      <td>0.029846</td>\n",
       "    </tr>\n",
       "    <tr>\n",
       "      <td>TSLA</td>\n",
       "      <td>0.032284</td>\n",
       "      <td>0.011713</td>\n",
       "      <td>0.263454</td>\n",
       "      <td>0.028565</td>\n",
       "      <td>0.045568</td>\n",
       "      <td>0.045343</td>\n",
       "    </tr>\n",
       "    <tr>\n",
       "      <td>GE</td>\n",
       "      <td>0.042747</td>\n",
       "      <td>0.023997</td>\n",
       "      <td>0.028565</td>\n",
       "      <td>0.096290</td>\n",
       "      <td>0.047018</td>\n",
       "      <td>0.073382</td>\n",
       "    </tr>\n",
       "    <tr>\n",
       "      <td>AMZN</td>\n",
       "      <td>0.064714</td>\n",
       "      <td>0.025989</td>\n",
       "      <td>0.045568</td>\n",
       "      <td>0.047018</td>\n",
       "      <td>0.226769</td>\n",
       "      <td>0.061977</td>\n",
       "    </tr>\n",
       "    <tr>\n",
       "      <td>DB</td>\n",
       "      <td>0.057236</td>\n",
       "      <td>0.029846</td>\n",
       "      <td>0.045343</td>\n",
       "      <td>0.073382</td>\n",
       "      <td>0.061977</td>\n",
       "      <td>0.187783</td>\n",
       "    </tr>\n",
       "  </tbody>\n",
       "</table>\n",
       "</div>"
      ],
      "text/plain": [
       "Symbols      AAPL       WMT      TSLA        GE      AMZN        DB\n",
       "Symbols                                                            \n",
       "AAPL     0.131422  0.021745  0.032284  0.042747  0.064714  0.057236\n",
       "WMT      0.021745  0.044372  0.011713  0.023997  0.025989  0.029846\n",
       "TSLA     0.032284  0.011713  0.263454  0.028565  0.045568  0.045343\n",
       "GE       0.042747  0.023997  0.028565  0.096290  0.047018  0.073382\n",
       "AMZN     0.064714  0.025989  0.045568  0.047018  0.226769  0.061977\n",
       "DB       0.057236  0.029846  0.045343  0.073382  0.061977  0.187783"
      ]
     },
     "execution_count": 47,
     "metadata": {},
     "output_type": "execute_result"
    }
   ],
   "source": [
    "returns.cov()*252"
   ]
  },
  {
   "cell_type": "code",
   "execution_count": 51,
   "metadata": {},
   "outputs": [],
   "source": [
    "def ini_weights():\n",
    "    weights=np.random.random(len(stocks))\n",
    "    weights /=np.sum(weights)\n",
    "    return weights"
   ]
  },
  {
   "cell_type": "code",
   "execution_count": 52,
   "metadata": {},
   "outputs": [],
   "source": [
    "def portfolio_return(returns,weights):\n",
    "    port_return=np.sum(returns.mean()*weights)*252\n",
    "    print(\"profit \",port_return)"
   ]
  },
  {
   "cell_type": "code",
   "execution_count": 58,
   "metadata": {},
   "outputs": [],
   "source": [
    "w=ini_weights()"
   ]
  },
  {
   "cell_type": "code",
   "execution_count": 59,
   "metadata": {},
   "outputs": [
    {
     "name": "stdout",
     "output_type": "stream",
     "text": [
      "profit  0.14991498756662042\n"
     ]
    }
   ],
   "source": [
    "portfolio_return(returns,w)"
   ]
  },
  {
   "cell_type": "code",
   "execution_count": null,
   "metadata": {},
   "outputs": [],
   "source": []
  }
 ],
 "metadata": {
  "kernelspec": {
   "display_name": "Python 3",
   "language": "python",
   "name": "python3"
  },
  "language_info": {
   "codemirror_mode": {
    "name": "ipython",
    "version": 3
   },
   "file_extension": ".py",
   "mimetype": "text/x-python",
   "name": "python",
   "nbconvert_exporter": "python",
   "pygments_lexer": "ipython3",
   "version": "3.7.4"
  }
 },
 "nbformat": 4,
 "nbformat_minor": 2
}
